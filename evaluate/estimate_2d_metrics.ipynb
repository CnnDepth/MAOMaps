{
 "cells": [
  {
   "cell_type": "code",
   "execution_count": 1,
   "metadata": {},
   "outputs": [],
   "source": [
    "import numpy as np\n",
    "import matplotlib.pyplot as plt\n",
    "%matplotlib inline"
   ]
  },
  {
   "cell_type": "code",
   "execution_count": 2,
   "metadata": {},
   "outputs": [],
   "source": [
    "import os\n",
    "from skimage.io import imread"
   ]
  },
  {
   "cell_type": "code",
   "execution_count": 3,
   "metadata": {},
   "outputs": [],
   "source": [
    "from compute_2d_ame import get_2d_ame, projection"
   ]
  },
  {
   "cell_type": "markdown",
   "metadata": {},
   "source": [
    "## Estimate 2D AME metric"
   ]
  },
  {
   "cell_type": "code",
   "execution_count": 4,
   "metadata": {},
   "outputs": [],
   "source": [
    "correction = [-0.45,\n",
    " -0.45,\n",
    " -0.45,\n",
    " -0.45,\n",
    " 1.51,\n",
    " 1.51,\n",
    " 1.51,\n",
    " 1.51,\n",
    " -0.37,\n",
    " -0.37,\n",
    " -0.37,\n",
    " 0.06,\n",
    " 0.07,\n",
    " 0.07,\n",
    " 0.07,\n",
    " 0.07,\n",
    " 0.07,\n",
    " 0.07,\n",
    " 0.07,\n",
    " 0.07]"
   ]
  },
  {
   "cell_type": "code",
   "execution_count": 5,
   "metadata": {},
   "outputs": [],
   "source": [
    "data_dir = '/home/kirill/habitat-lab/habitat_multi_rosbags/'"
   ]
  },
  {
   "cell_type": "code",
   "execution_count": 14,
   "metadata": {},
   "outputs": [
    {
     "data": {
      "text/plain": [
       "(-0.5250000953674316, -6.441219806671143)"
      ]
     },
     "execution_count": 14,
     "metadata": {},
     "output_type": "execute_result"
    }
   ],
   "source": [
    "map_x, map_y"
   ]
  },
  {
   "cell_type": "code",
   "execution_count": 6,
   "metadata": {},
   "outputs": [],
   "source": [
    "i = 18\n",
    "map_name = 'first'\n",
    "gt_pcd = np.loadtxt(os.path.join(data_dir, 'sample{}/gt_points_{}.txt'.format(i, map_name)))\n",
    "gt_projmap, shift = projection(gt_pcd)\n",
    "slam_projmap = imread(os.path.join(data_dir, 'sample{}/fcnn_maps/{}_map.png'.format(i, map_name)))\n",
    "with open(os.path.join(data_dir, 'sample{}/fcnn_maps/{}_start_position.txt'.format(i, map_name)), 'r') as f:\n",
    "    map_x = float(f.readline().strip())\n",
    "    map_y = float(f.readline().strip())\n",
    "    map_z = float(f.readline().strip())\n",
    "with open(os.path.join(data_dir, 'sample{}/start_pose_{}.txt'.format(i, map_name)), 'r') as ff:\n",
    "    x, y, z = map(float, ff.readline().split())\n",
    "    angle = float(ff.readline().strip()) + np.pi\n",
    "\n",
    "# compute metrics\n",
    "ame = get_2d_ame(slam_projmap, gt_projmap, x, y, angle + correction[i - 1], map_x, map_y, shift)"
   ]
  },
  {
   "cell_type": "code",
   "execution_count": 7,
   "metadata": {
    "scrolled": false
   },
   "outputs": [
    {
     "data": {
      "text/plain": [
       "1.6053173249586115"
      ]
     },
     "execution_count": 7,
     "metadata": {},
     "output_type": "execute_result"
    }
   ],
   "source": [
    "ame"
   ]
  },
  {
   "cell_type": "markdown",
   "metadata": {},
   "source": [
    "## Estimate ATE and RPE"
   ]
  },
  {
   "cell_type": "code",
   "execution_count": 8,
   "metadata": {},
   "outputs": [],
   "source": [
    "from compute_ate_rpe import get_ate, get_rpe, get_sync_poses"
   ]
  },
  {
   "cell_type": "code",
   "execution_count": 9,
   "metadata": {},
   "outputs": [],
   "source": [
    "gt_poses = np.loadtxt(os.path.join(data_dir, 'sample{}/gt_poses_{}.txt'.format(i, map_name)))\n",
    "gt_stamps = np.loadtxt(os.path.join(data_dir, 'sample{}/gt_poses_{}_timestamps.txt'.format(i, map_name)))"
   ]
  },
  {
   "cell_type": "code",
   "execution_count": 10,
   "metadata": {},
   "outputs": [],
   "source": [
    "slam_poses = np.loadtxt(os.path.join(data_dir, 'sample{}/test_kinect_{}/slam_poses.txt'.format(i, map_name)))\n",
    "slam_stamps = np.loadtxt(os.path.join(data_dir, 'sample{}/test_kinect_{}/slam_poses_timestamps.txt'.format(i, map_name)))"
   ]
  },
  {
   "cell_type": "code",
   "execution_count": 11,
   "metadata": {},
   "outputs": [],
   "source": [
    "gt_poses_sync = get_sync_poses(gt_poses, gt_stamps, slam_poses, slam_stamps)"
   ]
  },
  {
   "cell_type": "code",
   "execution_count": 12,
   "metadata": {
    "scrolled": true
   },
   "outputs": [
    {
     "data": {
      "text/plain": [
       "0.1415421430011656"
      ]
     },
     "execution_count": 12,
     "metadata": {},
     "output_type": "execute_result"
    }
   ],
   "source": [
    "get_ate(slam_poses, gt_poses_sync)"
   ]
  },
  {
   "cell_type": "code",
   "execution_count": 13,
   "metadata": {},
   "outputs": [
    {
     "data": {
      "text/plain": [
       "0.009066043470383365"
      ]
     },
     "execution_count": 13,
     "metadata": {},
     "output_type": "execute_result"
    }
   ],
   "source": [
    "get_rpe(slam_poses, gt_poses_sync, 0.07)"
   ]
  }
 ],
 "metadata": {
  "kernelspec": {
   "display_name": "Python 3",
   "language": "python",
   "name": "python3"
  },
  "language_info": {
   "codemirror_mode": {
    "name": "ipython",
    "version": 3
   },
   "file_extension": ".py",
   "mimetype": "text/x-python",
   "name": "python",
   "nbconvert_exporter": "python",
   "pygments_lexer": "ipython3",
   "version": "3.8.5"
  }
 },
 "nbformat": 4,
 "nbformat_minor": 2
}
