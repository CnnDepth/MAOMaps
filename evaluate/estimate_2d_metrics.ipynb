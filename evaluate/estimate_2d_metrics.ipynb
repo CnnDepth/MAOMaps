{
 "cells": [
  {
   "cell_type": "code",
   "execution_count": 1,
   "metadata": {},
   "outputs": [],
   "source": [
    "import numpy as np\n",
    "import matplotlib.pyplot as plt\n",
    "%matplotlib inline"
   ]
  },
  {
   "cell_type": "code",
   "execution_count": 2,
   "metadata": {},
   "outputs": [],
   "source": [
    "import os\n",
    "from skimage.io import imread"
   ]
  },
  {
   "cell_type": "code",
   "execution_count": 3,
   "metadata": {},
   "outputs": [],
   "source": [
    "from compute_ate_rpe import compare, projection"
   ]
  },
  {
   "cell_type": "markdown",
   "metadata": {},
   "source": [
    "## Estimate 2D metrics"
   ]
  },
  {
   "cell_type": "markdown",
   "metadata": {},
   "source": [
    "## Estimate for individual maps"
   ]
  },
  {
   "cell_type": "code",
   "execution_count": 4,
   "metadata": {},
   "outputs": [],
   "source": [
    "correction = [-0.45,\n",
    " -0.45,\n",
    " -0.45,\n",
    " -0.45,\n",
    " 1.51,\n",
    " 1.51,\n",
    " 1.51,\n",
    " 1.51,\n",
    " -0.37,\n",
    " -0.37,\n",
    " -0.37,\n",
    " 0.06,\n",
    " 0.07,\n",
    " 0.07,\n",
    " 0.07,\n",
    " 0.07,\n",
    " 0.07,\n",
    " 0.07,\n",
    " 0.07,\n",
    " 0.07]"
   ]
  },
  {
   "cell_type": "code",
   "execution_count": 5,
   "metadata": {},
   "outputs": [],
   "source": [
    "data_dir = '/home/kirill/habitat-lab/habitat_multi_rosbags/'"
   ]
  },
  {
   "cell_type": "code",
   "execution_count": 7,
   "metadata": {},
   "outputs": [],
   "source": [
    "i = 18\n",
    "map_name = 'first'\n",
    "gt_pcd = np.loadtxt(os.path.join(data_dir, 'sample{}/gt_points_{}.txt'.format(i, map_name)))\n",
    "gt_projmap, shift = projection(gt_pcd)\n",
    "slam_projmap = imread(os.path.join(data_dir, 'sample{}/fcnn_maps/{}_map.png'.format(i, map_name)))\n",
    "with open(os.path.join(data_dir, 'sample{}/fcnn_maps/{}_start_position.txt'.format(i, map_name)), 'r') as f:\n",
    "    map_x = float(f.readline().strip())\n",
    "    map_y = float(f.readline().strip())\n",
    "    map_z = float(f.readline().strip())\n",
    "with open(os.path.join(data_dir, 'sample{}/start_pose_{}.txt'.format(i, map_name)), 'r') as ff:\n",
    "    x, y, z = map(float, ff.readline().split())\n",
    "    angle = float(ff.readline().strip()) + np.pi\n",
    "\n",
    "# compute metrics\n",
    "cc_unscaled = compare(slam_projmap, gt_projmap, x, y, angle + correction[i - 1], map_x, map_y, shift)"
   ]
  },
  {
   "cell_type": "code",
   "execution_count": 10,
   "metadata": {},
   "outputs": [
    {
     "data": {
      "text/plain": [
       "1.6053173249586115"
      ]
     },
     "execution_count": 10,
     "metadata": {},
     "output_type": "execute_result"
    }
   ],
   "source": [
    "cc_unscaled"
   ]
  }
 ],
 "metadata": {
  "kernelspec": {
   "display_name": "Python 3",
   "language": "python",
   "name": "python3"
  },
  "language_info": {
   "codemirror_mode": {
    "name": "ipython",
    "version": 3
   },
   "file_extension": ".py",
   "mimetype": "text/x-python",
   "name": "python",
   "nbconvert_exporter": "python",
   "pygments_lexer": "ipython3",
   "version": "3.8.5"
  }
 },
 "nbformat": 4,
 "nbformat_minor": 2
}
